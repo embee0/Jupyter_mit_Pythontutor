{
 "cells": [
  {
   "cell_type": "markdown",
   "metadata": {},
   "source": [
    "# Visualisierung im Jupyter-Notebook\n",
    "(Achtung: Alles hier ist *work in progress*!)"
   ]
  },
  {
   "cell_type": "markdown",
   "metadata": {},
   "source": [
    "## Pythontutor\n",
    "[Pythontutor](https://pythontutor.com) ist ein geniales Tool, mit dem man Code-Ausführung und die dabei entstehenden Daten visualisieren kann! \n",
    "\n",
    "Um zu sehen, was es kann, unbedingt einige Beispiele anschauen. Diese findet man, wenn man auf [dieser Seite](https://pythontutor.com/visualize.html) den Link \"Show code examples\" anklickt (ist JS und kann deshalb hier nicht direkt verlinkt werden). Unter den Beispielen empfehle ich zB:\n",
    "- intro (als Überblick über viele Feaures sowohl von Python als auch Python-Tutor)\n",
    "- hello (zeigt Referenzen, auch mehrere auf dasselbe Objekt, und Funktionen, insb. deren Parameter und lokale Variablen)\n",
    "- filter\n",
    "- OOP2\n",
    "- die Linked List Beispiele\n",
    "- u.v.m. \n",
    "\n",
    "Will man \"von Hand\" die Ausführung eines Codebeispiels visualisieren, kopiert man diesen in das Textfeld auf dieser Seite: https://pythontutor.com/visualize.html#mode=edit\n",
    "\n",
    "#### Pythontutor direkt im Notebook nutzen\n",
    "Pythontutor kann man über eine Art API auch programmatisch in seinen eigenen Code einbauen, insb. in ein Jupyter Notebook. \n",
    "\n",
    "In diesem Notebook entwickele ich eine Funktion `visualisiere_code_zelle()`, die\n",
    "- das Notebook nach einer Zelle mit einem bestimmten Stichwort durchsucht, zB \"Aufgabe 2.13\"\n",
    "- den Inhalt dieser Zelle an PythonTutor schickt\n",
    "- und den von PythonTutor erzeugten IFrame anzeigt\n",
    "\n",
    "Die API von Pythontutor wird in [diesem Dokument](https://docs.google.com/document/d/1quk8gdvgzaYrZaOSiVzCia8tCXBFmuTk0awMw_-OTuE/edit?usp=sharing) beschrieben.\n",
    "\n",
    "Hier ein \"hartkodiertes\" Beispiel:"
   ]
  },
  {
   "cell_type": "code",
   "execution_count": 1,
   "metadata": {},
   "outputs": [
    {
     "data": {
      "text/html": [
       "<iframe width=\"800\" height=\"400\" frameborder=\"0\" src=\"https://pythontutor.com/iframe-embed.html#code=liste%20%3D%20%5B1,%202,%203%5D%0Asumme%20%3D%200%0Afor%20zahl%20in%20liste%3A%0A%20%20%20%20summe%20%2B%3D%20zahl%0Aprint%28summe%29&codeDivHeight=400&codeDivWidth=350&cumulative=false&curInstr=0&heapPrimitives=nevernest&origin=opt-frontend.js&py=3&rawInputLstJSON=%5B%5D&textReferences=false\"> </iframe>\n"
      ],
      "text/plain": [
       "<IPython.core.display.HTML object>"
      ]
     },
     "metadata": {},
     "output_type": "display_data"
    }
   ],
   "source": [
    "%%html\n",
    "<iframe width=\"800\" height=\"400\" frameborder=\"0\" src=\"https://pythontutor.com/iframe-embed.html#code=liste%20%3D%20%5B1,%202,%203%5D%0Asumme%20%3D%200%0Afor%20zahl%20in%20liste%3A%0A%20%20%20%20summe%20%2B%3D%20zahl%0Aprint%28summe%29&codeDivHeight=400&codeDivWidth=350&cumulative=false&curInstr=0&heapPrimitives=nevernest&origin=opt-frontend.js&py=3&rawInputLstJSON=%5B%5D&textReferences=false\"> </iframe>"
   ]
  },
  {
   "cell_type": "markdown",
   "metadata": {},
   "source": [
    "Das Tag `<iframe>`ehält einen Bereich, der mit `code=...` beginnt. Darin findet sich der (für URLs angepasste) Python-Code.\n",
    "\n",
    "Ein solches iframe wollen wir nun programmatisch erzeugen. Zuvor aber ein paar Notebook-Zellen mit Python-Beispielen, die wir nachher auslesen wollen:"
   ]
  },
  {
   "cell_type": "markdown",
   "metadata": {},
   "source": [
    "### Beispiele\n",
    "Hier ein paar Zellen mit einfachem Python-Code. Wichtig: In Zeile 1 steht eine Art \"ID\", nach der wir später suchen können."
   ]
  },
  {
   "cell_type": "code",
   "execution_count": 2,
   "metadata": {},
   "outputs": [
    {
     "name": "stdout",
     "output_type": "stream",
     "text": [
      "21\n"
     ]
    }
   ],
   "source": [
    "# Aufgabe 1.03    Das ist natürlich nur ein willkürlich gewählter Name\n",
    "liste = [1, 2, 3, 2, 4, 5, 6, 4]\n",
    "summe = 0\n",
    "bekannt = set()\n",
    "for zahl in liste:\n",
    "    if zahl in bekannt:\n",
    "        continue\n",
    "    summe += zahl\n",
    "    bekannt.add(zahl)\n",
    "print(summe)"
   ]
  },
  {
   "cell_type": "markdown",
   "metadata": {},
   "source": [
    "## Visualierung\n",
    "Wir schreiben zwei Funktionen:\n",
    "\n",
    "1. `suche_zelle()` durchsucht die History des Jupyter Notebooks, d.h. die schon ausgeführten Zellen nach einem bestimmten Suchstring, und zwar *rückwärts*, so dass die zuletzt ausgeführte Zelle zuerst gefunden und zurückgegeben wird.\n",
    "2. `visualisiere_code_zelle()` schickt den `suche_zelle()` gefundenen Code an Pythontutor und stellt das daraus erzeugte Iframe mit der Visualisierung des Codes dar."
   ]
  },
  {
   "cell_type": "code",
   "execution_count": 3,
   "metadata": {},
   "outputs": [],
   "source": [
    "# Code für Visualisierung von Notebook-Zellen mit Python Tutor\n",
    "from typing import Optional, Generator\n",
    "from urllib.parse import quote\n",
    "from IPython.display import IFrame\n",
    "import inspect\n",
    "\n",
    "def suche_zelle(suchtext: str, suchtext_in_zeile_1=True, history=In, verboten=None) -> Optional[str]:\n",
    "    def ist_treffer(text: str) -> bool:\n",
    "        suchbereich = text.splitlines()[0] if suchtext_in_zeile_1 else text\n",
    "        return suchtext in suchbereich and verboten not in suchbereich\n",
    "    treffer: Generator[str, None, None] = (text for text in reversed(history[:-1]) if text and ist_treffer(text))\n",
    "    neuester_treffer: Optional[str] = next(treffer, None)\n",
    "    return neuester_treffer \n",
    "\n",
    "\n",
    "def visualisiere_code_zelle(suchtext: str, history=In, width=\"100%\", height=500) -> Optional[IFrame]:\n",
    "    # Codezelle finden\n",
    "    name_dieser_funktion = inspect.currentframe().f_code.co_name  # verwendet, um die Zelle auszuschließen, in der der Visualisierungsaufruf steht\n",
    "    code = suche_zelle(suchtext, history, verboten=name_dieser_funktion)\n",
    "    if code is None:\n",
    "        print(f'Keine Notebook-Zelle mit Suchtext \"{suchtext}\" gefunden. Wichtig: Vor Aufruf der Visualisierung muss die Zelle ausgeführt werden.')\n",
    "        return None\n",
    "\n",
    "    # Aufruf der PythonTutor-API vorbereiten\n",
    "    quoted_code = quote(code)\n",
    "    zeilen = len(code.splitlines())\n",
    "    codeDivHeight = height - 150\n",
    "    python_tutor_iframe = f\"\"\"https://pythontutor.com/iframe-embed.html#code={quoted_code}&codeDivHeight={codeDivHeight}&codeDivWidth=500&cumulative=false&curInstr=0&heapPrimitives=nevernest&origin=opt-frontend.js&py=3&rawInputLstJSON=%5B%5D&textReferences=false   \"\"\"\n",
    "    return IFrame(src=f'{python_tutor_iframe}', width=width, height=height)"
   ]
  },
  {
   "cell_type": "code",
   "execution_count": 4,
   "metadata": {},
   "outputs": [
    {
     "name": "stdout",
     "output_type": "stream",
     "text": [
      "Herzlich Willkommen, Hermione Granger\n"
     ]
    }
   ],
   "source": [
    "# Beispiel 1.07  (inhaltlich recht sinnlos)\n",
    "d = {}\n",
    "d2 = d\n",
    "d[\"Harry\"] = \"Potter\"\n",
    "d[\"Hermione\"] = \"Granger\"\n",
    "\n",
    "def voller_name(vorname):\n",
    "    nachname = d[vorname]\n",
    "    voll = f\"{vorname} {nachname}\"\n",
    "    return voll\n",
    "\n",
    "vorname = \"Hermione\"\n",
    "vollstaendiger_name = voller_name(vorname)\n",
    "print(f\"Herzlich Willkommen, {vollstaendiger_name}\")"
   ]
  },
  {
   "cell_type": "code",
   "execution_count": 5,
   "metadata": {},
   "outputs": [
    {
     "name": "stdout",
     "output_type": "stream",
     "text": [
      "Keine Notebook-Zelle mit Suchtext \"Aufgabe 1.07\" gefunden. Wichtig: Vor Aufruf der Visualisierung muss die Zelle ausgeführt werden.\n"
     ]
    }
   ],
   "source": [
    "visualisiere_code_zelle(\"Aufgabe 1.07\", In)"
   ]
  },
  {
   "cell_type": "markdown",
   "metadata": {},
   "source": [
    "### Visualisierungsfunktion in externe Datei auslagern\n",
    "Natürlich möchte man die \"echten Inhalte\" eines Notebooks von Hilfsfunktionen wie `visualisiere_code_zelle()` trennen. Dazu habe ich ein Python-Modul `unterricht.py` erstellt. Aus diese kann `visualisiere_code_zelle` importiert werden.\n",
    "\n",
    "Problem: Aktuell muss an die externe Version von `visualisiere_code_zelle` als zusätzliches Argument die [Kommando-Historie `In`](https://ipython.org/ipython-doc/3/interactive/reference.html#input-caching-system) des Notebooks übergeben wird, denn diese wird nach dem Suchstring durchsucht - und ist leider aus einer externen Datei offensichtlich nicht mehr zugänglich.  Wahrscheinlich kann man das mit irgendeinem Hack lösen und dadurch den Aufruf für KuK einfacher gestalten - noch habe ich aber keinen gefunden..."
   ]
  },
  {
   "cell_type": "code",
   "execution_count": 6,
   "metadata": {},
   "outputs": [
    {
     "data": {
      "text/html": [
       "\n",
       "        <iframe\n",
       "            width=\"100%\"\n",
       "            height=\"500\"\n",
       "            src=\"https://pythontutor.com/iframe-embed.html#code=%23%20Aufgabe%201.03%20%20%20%20Das%20ist%20nat%C3%BCrlich%20nur%20ein%20willk%C3%BCrlich%20gew%C3%A4hlter%20Name%0Aliste%20%3D%20%5B1%2C%202%2C%203%2C%202%2C%204%2C%205%2C%206%2C%204%5D%0Asumme%20%3D%200%0Abekannt%20%3D%20set%28%29%0Afor%20zahl%20in%20liste%3A%0A%20%20%20%20if%20zahl%20in%20bekannt%3A%0A%20%20%20%20%20%20%20%20continue%0A%20%20%20%20summe%20%2B%3D%20zahl%0A%20%20%20%20bekannt.add%28zahl%29%0Aprint%28summe%29&codeDivHeight=350&codeDivWidth=500&cumulative=false&curInstr=0&heapPrimitives=nevernest&origin=opt-frontend.js&py=3&rawInputLstJSON=%5B%5D&textReferences=false   \"\n",
       "            frameborder=\"0\"\n",
       "            allowfullscreen\n",
       "            \n",
       "        ></iframe>\n",
       "        "
      ],
      "text/plain": [
       "<IPython.lib.display.IFrame at 0x1f897980520>"
      ]
     },
     "execution_count": 6,
     "metadata": {},
     "output_type": "execute_result"
    }
   ],
   "source": [
    "from unterricht import visualisiere_code_zelle\n",
    "\n",
    "visualisiere_code_zelle(\"1.03\", In)"
   ]
  }
 ],
 "metadata": {
  "interpreter": {
   "hash": "fcf2208d1ff823c1216cf5fce66a3b4eb017dcec58a0d5875421f1de12c0c355"
  },
  "kernelspec": {
   "display_name": "Python 3.9.0 64-bit ('webscrape': conda)",
   "language": "python",
   "name": "python3"
  },
  "language_info": {
   "codemirror_mode": {
    "name": "ipython",
    "version": 3
   },
   "file_extension": ".py",
   "mimetype": "text/x-python",
   "name": "python",
   "nbconvert_exporter": "python",
   "pygments_lexer": "ipython3",
   "version": "3.9.0"
  },
  "orig_nbformat": 4
 },
 "nbformat": 4,
 "nbformat_minor": 2
}
